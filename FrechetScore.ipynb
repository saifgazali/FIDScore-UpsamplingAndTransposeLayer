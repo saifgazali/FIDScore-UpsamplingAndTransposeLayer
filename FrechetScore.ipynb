{
 "cells": [
  {
   "cell_type": "code",
   "execution_count": 15,
   "metadata": {},
   "outputs": [],
   "source": [
    "import numpy\n",
    "from numpy import trace,cov,iscomplexobj\n",
    "from numpy.random import random,randint,randn\n",
    "from scipy.linalg import sqrtm"
   ]
  },
  {
   "cell_type": "code",
   "execution_count": 6,
   "metadata": {},
   "outputs": [],
   "source": [
    "#calculate frechet inspection score\n",
    "def calc_frechet_score(act1,act2):\n",
    "    #calc mean and covariance for first activation\n",
    "    mean1,cov1 = act1.mean(axis=0), cov(act1,rowvar=False)\n",
    "    mean2,cov2 = act2.mean(axis=0), cov(act2,rowvar=False)\n",
    "    \n",
    "    #calc sum of square difference btw means\n",
    "    ssdiff = numpy.sum((mean1-mean2) ** 2.0)\n",
    "    \n",
    "    #calcualte sqrt of product between cov\n",
    "    covmean = sqrtm(cov1.dot(cov2))\n",
    "    \n",
    "    #check and correct imaginary numbers from sqrt\n",
    "    if iscomplexobj(covmean):\n",
    "        covmean = covmean.real\n",
    "        \n",
    "    fid = ssdiff + trace(cov1+cov2 - 2.0 * covmean)\n",
    "    return fid"
   ]
  },
  {
   "cell_type": "code",
   "execution_count": 7,
   "metadata": {},
   "outputs": [],
   "source": [
    "# defining 2 random activations\n",
    "# the output layer for inception model has 2048 activation features\n",
    "act1 = random(10*2048)\n",
    "act1 = act1.reshape((10,2048))\n",
    "\n",
    "act2 = random(10*2048)\n",
    "act2 = act2.reshape((10,2048))"
   ]
  },
  {
   "cell_type": "code",
   "execution_count": 10,
   "metadata": {},
   "outputs": [
    {
     "name": "stdout",
     "output_type": "stream",
     "text": [
      "Comparing same activations -0.00015799757581247062\n",
      "Comparing different activations 353.74969235921543\n"
     ]
    }
   ],
   "source": [
    "#fid between act1 and act1\n",
    "print(\"Comparing same activations\",calc_frechet_score(act1,act1))\n",
    "\n",
    "#fid between act1 and act2\n",
    "print(\"Comparing different activations\",calc_frechet_score(act1,act2))"
   ]
  },
  {
   "cell_type": "markdown",
   "metadata": {},
   "source": [
    "### Implementing FID with keras\n"
   ]
  },
  {
   "cell_type": "code",
   "execution_count": 11,
   "metadata": {},
   "outputs": [],
   "source": [
    "import tensorflow\n",
    "from tensorflow.keras.applications.inception_v3 import InceptionV3\n",
    "from tensorflow.keras.applications.inception_v3 import preprocess_input\n",
    "from skimage.transform import resize"
   ]
  },
  {
   "cell_type": "code",
   "execution_count": 13,
   "metadata": {},
   "outputs": [
    {
     "name": "stdout",
     "output_type": "stream",
     "text": [
      "Downloading data from https://storage.googleapis.com/tensorflow/keras-applications/inception_v3/inception_v3_weights_tf_dim_ordering_tf_kernels_notop.h5\n",
      "87916544/87910968 [==============================] - 156s 2us/step\n"
     ]
    }
   ],
   "source": [
    "# when we remove the top output layer of the model it also removes the global\n",
    "# avg pooling layer that we require. hence we get it back by specifying pooling='avg'\n",
    "model = InceptionV3(include_top=False,pooling='avg',input_shape=(299,299,3))\n"
   ]
  },
  {
   "cell_type": "code",
   "execution_count": 19,
   "metadata": {},
   "outputs": [],
   "source": [
    "# frechet inception distance\n",
    "#calculate frechet inspection score\n",
    "def calc_frechet_score(model,images1,images2):\n",
    "    \n",
    "    act1 = model.predict(images1)\n",
    "    act2 = model.predict(images2)\n",
    "    \n",
    "    #calc mean and covariance for first activation\n",
    "    mean1,cov1 = act1.mean(axis=0), cov(act1,rowvar=False)\n",
    "    mean2,cov2 = act2.mean(axis=0), cov(act2,rowvar=False)\n",
    "    \n",
    "    #calc sum of square difference btw means\n",
    "    ssdiff = numpy.sum((mean1-mean2) ** 2.0)\n",
    "    \n",
    "    #calcualte sqrt of product between cov\n",
    "    covmean = sqrtm(cov1.dot(cov2))\n",
    "    \n",
    "    #check and correct imaginary numbers from sqrt\n",
    "    if iscomplexobj(covmean):\n",
    "        covmean = covmean.real\n",
    "        \n",
    "    fid = ssdiff + trace(cov1+cov2 - 2.0 * covmean)\n",
    "    return fid"
   ]
  },
  {
   "cell_type": "code",
   "execution_count": 12,
   "metadata": {},
   "outputs": [],
   "source": [
    "import numpy as np\n",
    "# scale the image to a new size as not all the time we will have image of required sizes\n",
    "def scale_image(images,new_shape):\n",
    "    image_list = list()\n",
    "    for img in images:\n",
    "        new_img = resize(img,new_shape,0)\n",
    "        image_list.append(new_img)\n",
    "    return np.array(image_list)\n"
   ]
  },
  {
   "cell_type": "code",
   "execution_count": 16,
   "metadata": {},
   "outputs": [],
   "source": [
    "# check on 10 32x32 images with random pixels from [0,255]\n",
    "images1 = randint(0,255,10*32*32*3)\n",
    "images1 = images1.reshape((10,32,32,3))\n",
    "\n",
    "images2 = randint(0,255,10*32*32*3)\n",
    "images2 = images2.reshape((10,32,32,3))\n"
   ]
  },
  {
   "cell_type": "code",
   "execution_count": 17,
   "metadata": {},
   "outputs": [],
   "source": [
    "# convert the integer pixel values to floating values and then scale them\n",
    "images1 = images1.astype('float32')\n",
    "images2 = images2.astype('float32')\n",
    "\n",
    "#resize image\n",
    "images1 = scale_image(images1,(299,299,3))\n",
    "images2 = scale_image(images2,(299,299,3))"
   ]
  },
  {
   "cell_type": "code",
   "execution_count": 18,
   "metadata": {},
   "outputs": [],
   "source": [
    "# preprocess image\n",
    "images1 = preprocess_input(images1)\n",
    "images2 = preprocess_input(images2)"
   ]
  },
  {
   "cell_type": "code",
   "execution_count": 20,
   "metadata": {},
   "outputs": [
    {
     "name": "stdout",
     "output_type": "stream",
     "text": [
      "41.45074737170265\n"
     ]
    }
   ],
   "source": [
    "#fid between images1 and images2\n",
    "fid = calc_frechet_score(model,images1,images2)\n",
    "print(fid)"
   ]
  },
  {
   "cell_type": "code",
   "execution_count": 21,
   "metadata": {},
   "outputs": [
    {
     "name": "stdout",
     "output_type": "stream",
     "text": [
      "-2.539265177219047e-05\n"
     ]
    }
   ],
   "source": [
    "fid = calc_frechet_score(model,images1,images1)\n",
    "print(fid)"
   ]
  },
  {
   "cell_type": "code",
   "execution_count": null,
   "metadata": {},
   "outputs": [],
   "source": []
  },
  {
   "cell_type": "code",
   "execution_count": null,
   "metadata": {},
   "outputs": [],
   "source": []
  },
  {
   "cell_type": "code",
   "execution_count": null,
   "metadata": {},
   "outputs": [],
   "source": []
  },
  {
   "cell_type": "code",
   "execution_count": null,
   "metadata": {},
   "outputs": [],
   "source": []
  }
 ],
 "metadata": {
  "kernelspec": {
   "display_name": "Python 3",
   "language": "python",
   "name": "python3"
  },
  "language_info": {
   "codemirror_mode": {
    "name": "ipython",
    "version": 3
   },
   "file_extension": ".py",
   "mimetype": "text/x-python",
   "name": "python",
   "nbconvert_exporter": "python",
   "pygments_lexer": "ipython3",
   "version": "3.8.5"
  }
 },
 "nbformat": 4,
 "nbformat_minor": 4
}
